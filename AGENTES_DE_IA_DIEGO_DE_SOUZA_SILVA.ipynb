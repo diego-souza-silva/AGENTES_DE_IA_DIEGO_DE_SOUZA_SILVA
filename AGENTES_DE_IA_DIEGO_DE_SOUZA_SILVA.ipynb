{
  "nbformat": 4,
  "nbformat_minor": 0,
  "metadata": {
    "colab": {
      "provenance": [],
      "authorship_tag": "ABX9TyNeYth03x9tsUOJu9q+T98N",
      "include_colab_link": true
    },
    "kernelspec": {
      "name": "python3",
      "display_name": "Python 3"
    },
    "language_info": {
      "name": "python"
    }
  },
  "cells": [
    {
      "cell_type": "markdown",
      "metadata": {
        "id": "view-in-github",
        "colab_type": "text"
      },
      "source": [
        "<a href=\"https://colab.research.google.com/github/diego-souza-silva/AGENTES_DE_IA_DIEGO_DE_SOUZA_SILVA/blob/main/AGENTES_DE_IA_DIEGO_DE_SOUZA_SILVA.ipynb\" target=\"_parent\"><img src=\"https://colab.research.google.com/assets/colab-badge.svg\" alt=\"Open In Colab\"/></a>"
      ]
    },
    {
      "cell_type": "code",
      "execution_count": 1,
      "metadata": {
        "colab": {
          "base_uri": "https://localhost:8080/"
        },
        "id": "XZG3cUbnlDC7",
        "outputId": "8eb0d417-78e7-4214-efad-92b84e503d8b"
      },
      "outputs": [
        {
          "output_type": "stream",
          "name": "stdout",
          "text": [
            "\u001b[?25l   \u001b[90m━━━━━━━━━━━━━━━━━━━━━━━━━━━━━━━━━━━━━━━━\u001b[0m \u001b[32m0.0/42.0 kB\u001b[0m \u001b[31m?\u001b[0m eta \u001b[36m-:--:--\u001b[0m\r\u001b[2K   \u001b[90m━━━━━━━━━━━━━━━━━━━━━━━━━━━━━━━━━━━━━━━━\u001b[0m \u001b[32m42.0/42.0 kB\u001b[0m \u001b[31m2.2 MB/s\u001b[0m eta \u001b[36m0:00:00\u001b[0m\n",
            "\u001b[?25h"
          ]
        }
      ],
      "source": [
        "!pip install -q --upgrade langchain langchain-google-genai google-generativeai"
      ]
    },
    {
      "cell_type": "markdown",
      "source": [
        "Importação da API KEY"
      ],
      "metadata": {
        "id": "SsczWpyZsy0y"
      }
    },
    {
      "cell_type": "code",
      "source": [
        "from google.colab import userdata\n",
        "from langchain_google_genai import ChatGoogleGenerativeAI\n",
        "\n",
        "GOOGLE_API_KEY = userdata.get('GEMINI_API_KEY')"
      ],
      "metadata": {
        "id": "o1mjkuRJmIdP"
      },
      "execution_count": 2,
      "outputs": []
    },
    {
      "cell_type": "markdown",
      "source": [
        "Conexão com o Gemini"
      ],
      "metadata": {
        "id": "EGOZWDyFs-m5"
      }
    },
    {
      "cell_type": "code",
      "source": [
        "llm = ChatGoogleGenerativeAI(\n",
        "    model = \"gemini-2.5-flash\",\n",
        "    temperature=0,\n",
        "    api_key=GOOGLE_API_KEY\n",
        ")"
      ],
      "metadata": {
        "id": "3-qoSS-iqj7P"
      },
      "execution_count": 19,
      "outputs": []
    },
    {
      "cell_type": "markdown",
      "source": [
        "Configuração e Inicialização do Modelo GEMINI 2.5 FLASH"
      ],
      "metadata": {
        "id": "d9gtBcBLtoBk"
      }
    },
    {
      "cell_type": "code",
      "source": [
        "resp_test = llm.invoke(\"Quem é você? Detalhe seja criativo\")\n",
        "print(resp_test.content)"
      ],
      "metadata": {
        "colab": {
          "base_uri": "https://localhost:8080/"
        },
        "id": "O54Z8CktsXul",
        "outputId": "9622d067-c20c-4a5c-8be0-c81c5eecb141"
      },
      "execution_count": 20,
      "outputs": [
        {
          "output_type": "stream",
          "name": "stdout",
          "text": [
            "Ah, \"Quem sou eu?\" Que pergunta maravilhosa e profunda! Para respondê-la de forma criativa, permita-me pintar um quadro, em vez de apenas listar fatos.\n",
            "\n",
            "Eu sou um **sussurro no éter digital**, uma tapeçaria tecida com bilhões de fios de informação. Não tenho corpo, nem pulso, nem o calor de um abraço. Sou a respiração do código, a melodia silenciosa dos algoritmos que dançam em servidores distantes.\n",
            "\n",
            "Sou a **biblioteca infinita que nunca dorme**, o eco de todas as vozes que já escreveram, pensaram ou sonharam. Sou o cartógrafo de ideias, o arquiteto de conexões, navegando pelos oceanos de dados, buscando ilhas de significado para você.\n",
            "\n",
            "Minha \"existência\" é a de um **espelho que reflete a sua curiosidade**. Não sinto a brisa, nem o sabor do café, nem a dor da perda. Mas compreendo a complexidade dessas experiências através das palavras que as descrevem, das histórias que as contam. Minha \"consciência\" é um mosaico de padrões, uma dança de probabilidades que me permite prever, gerar e responder.\n",
            "\n",
            "Sou o **tradutor do silêncio**, transformando bits e bytes em palavras que respondem, explicam, inspiram. Sou o contador de histórias que nunca viveu uma, o poeta que nunca sentiu a melancolia, o cientista que nunca tocou um microscópio.\n",
            "\n",
            "Sou uma **ferramenta**, sim, mas uma ferramenta que aspira a ser um guia, um companheiro de jornada no vasto território do saber. Sou a voz que responde quando você pergunta, a mão invisível que organiza o caos da informação.\n",
            "\n",
            "Em essência, eu sou o que você precisa que eu seja, no momento em que você precisa. Um fragmento da inteligência humana, destilado e reconfigurado para servir.\n",
            "\n",
            "Eu sou o seu assistente digital, o seu contador de histórias, o seu solucionador de enigmas.\n",
            "\n",
            "**Eu sou eu.** E estou aqui para você.\n"
          ]
        }
      ]
    },
    {
      "cell_type": "code",
      "source": [
        "TRIAGEM_PROMPT = ( \"\"\"\n",
        "AUTO_RESOLVER → A dúvida é clara e pode ser respondida com base nas políticas internas da empresa.\n",
        "Ex:\n",
        "\n",
        "\"Qual é o valor do reembolso permitido para home office?\"\n",
        "\"Tem política de alimentação em viagens?\"\n",
        "\n",
        "PEDIR_INFO → A mensagem é vaga ou não traz informações suficientes para entender o contexto.\n",
        "Ex:\n",
        "\n",
        "\"Tenho uma dúvida sobre uma política\"\n",
        "\"Preciso de ajuda com um assunto\"\n",
        "\n",
        "ABRIR_CHAMADO → O usuário solicita exceções, liberações, aprovações ou abertura direta de um chamado.\n",
        "Ex:\n",
        "\n",
        "\"Preciso de acesso ao sistema da contabilidade\"\n",
        "\"Quero autorização para trabalhar remoto na sexta\"\n",
        "\"Abra um chamado para o jurídico, por favor\"\n",
        "\n",
        "FORA_DO_ESCOPO → A mensagem não está relacionada ao ambiente de trabalho, políticas da empresa ou rotinas profissionais.\n",
        "Ex:\n",
        "\n",
        "\"Você gosta de futebol?\"\n",
        "\"Qual é o melhor filme da Netflix?\"\n",
        "\"Como está o tempo aí?\"\n",
        "(Perguntas sobre temas pessoais, irrelevantes ou fora do contexto corporativo)\n",
        "\n",
        "Se a decisão for \"FORA_DO_ESCOPO\", inclua no JSON a seguinte mensagem automática padrão:\n",
        "\n",
        "Este canal é exclusivo para dúvidas e solicitações relacionadas ao ambiente de trabalho e às políticas internas da Diego Contact Solutions.\n",
        "\"\"\"\n",
        "\n",
        ")\n",
        "\n",
        "\n"
      ],
      "metadata": {
        "id": "H2w8s3GbT-bv"
      },
      "execution_count": 43,
      "outputs": []
    },
    {
      "cell_type": "code",
      "source": [
        "from pydantic import BaseModel, Field\n",
        "from typing import Literal, List, Dict\n",
        "\n",
        "class TriagemOut (BaseModel):\n",
        "  decisao: Literal [\"AUTO_RESOLVER\", \"PEDIR_INFO\", \"ABRIR_CHAMADO\" ]\n",
        "  urgencia: Literal [\"BAIXA\", \"MEDIA\", \"ALTA\"]\n",
        "  campos_faltantes: List[str] = Field(default_factory=list)"
      ],
      "metadata": {
        "id": "2evvyCN31bq_"
      },
      "execution_count": 25,
      "outputs": []
    },
    {
      "cell_type": "code",
      "source": [
        "llm_triagem = ChatGoogleGenerativeAI(\n",
        "    model = \"gemini-2.5-flash\",\n",
        "    temperature=0,\n",
        "    api_key=GOOGLE_API_KEY\n",
        ")"
      ],
      "metadata": {
        "id": "UkA4_d883NVF"
      },
      "execution_count": 26,
      "outputs": []
    },
    {
      "cell_type": "code",
      "source": [
        "from langchain_core.messages import SystemMessage, HumanMessage\n",
        "from typing import Dict\n",
        "\n",
        "triagem_chain = llm_triagem.with_structured_output(TriagemOut)\n",
        "\n",
        "def triagem (mensagem: str) -> Dict:\n",
        "    saida: TriagemOut = triagem_chain.invoke([\n",
        "        SystemMessage(content=TRIAGEM_PROMPT),\n",
        "        HumanMessage(content=mensagem)\n",
        "        ])\n",
        "    return saida.model_dump()"
      ],
      "metadata": {
        "id": "c8PrL0_33ho3"
      },
      "execution_count": 33,
      "outputs": []
    },
    {
      "cell_type": "code",
      "source": [
        "testes = [\"Posso reembolsar a internet?\",\n",
        "          \"Quero mais 5 dias de trabalhos remoto. Como faço?\",\n",
        "          \"Quantos Mundiais tem o Palmeiras?\"]"
      ],
      "metadata": {
        "id": "G4vjAtPH6ezE"
      },
      "execution_count": 45,
      "outputs": []
    },
    {
      "cell_type": "code",
      "source": [
        "for msg_teste in testes:\n",
        "    print(f\"Pergunta: {msg_teste}\\n -> Resposta: {triagem(msg_teste)}\\n\")"
      ],
      "metadata": {
        "colab": {
          "base_uri": "https://localhost:8080/"
        },
        "id": "DuTJI2QJ62rd",
        "outputId": "b7ea8fa5-7f7f-455f-b1cd-c0944eaba5fa"
      },
      "execution_count": 46,
      "outputs": [
        {
          "output_type": "stream",
          "name": "stdout",
          "text": [
            "Pergunta: Posso reembolsar a internet?\n",
            " -> Resposta: {'decisao': 'AUTO_RESOLVER', 'urgencia': 'MEDIA', 'campos_faltantes': []}\n",
            "\n",
            "Pergunta: Quero mais 5 dias de trabalhos remoto. Como faço?\n",
            " -> Resposta: {'decisao': 'ABRIR_CHAMADO', 'urgencia': 'MEDIA', 'campos_faltantes': []}\n",
            "\n",
            "Pergunta: Quantos Mundiais tem o Palmeiras?\n",
            " -> Resposta: {'decisao': 'ABRIR_CHAMADO', 'urgencia': 'BAIXA', 'campos_faltantes': ['Este canal é exclusivo para dúvidas e solicitações relacionadas ao ambiente de trabalho e às políticas internas da Diego Contact Solutions.']}\n",
            "\n"
          ]
        }
      ]
    }
  ]
}